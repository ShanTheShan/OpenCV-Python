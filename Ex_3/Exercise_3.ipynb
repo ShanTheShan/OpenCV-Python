{
 "cells": [
  {
   "cell_type": "markdown",
   "metadata": {},
   "source": [
    "# Requirements for video and its audio\n",
    "\n",
    "- Video format (container): mp4\n",
    "- Video codec: h.264\n",
    "- Audio codec: aac\n",
    "- Frame rate: 25 FPS\n",
    "- Aspect ratio: 16:9\n",
    "- Resolution: 640 x 360\n",
    "- Video bit rate: 2 – 5 Mb/s\n",
    "- Audio bit rate: up to 256 kb/s\n",
    "- Audio channels: stereo\n",
    "\n",
    "From a series of video files, the application should generate a brief report in TXT indicating which films do not respect the digital format specified by the festival and what are the ‘problematic’ fields."
   ]
  },
  {
   "cell_type": "markdown",
   "metadata": {},
   "source": [
    "# ffprobe is to examine files\n",
    "\n",
    "# ffmpeg is to modify files"
   ]
  },
  {
   "cell_type": "code",
   "execution_count": 1,
   "metadata": {},
   "outputs": [],
   "source": [
    "file_directories = ['Cosmos_War_of_the_Planets.mp4','Last_man_on_earth_1964.mov',\n",
    "                      'The_Gun_and_the_Pulpit.avi','The_Hill_Gang_Rides_Again.mp4',\n",
    "                      'Voyage_to_the_Planet_of_Prehistoric_Women.mp4']\n",
    "\n",
    "#file_directories = ['The_Gun_and_the_Pulpit.avi']"
   ]
  },
  {
   "cell_type": "code",
   "execution_count": 2,
   "metadata": {},
   "outputs": [],
   "source": [
    "import re\n",
    "#examine given audio files and generate report\n",
    "def generate_report(file_directory:list):\n",
    "    '''pass the directory of the video files'''\n",
    "    assert isinstance(file_directory,list), 'arguement passed in was not list of string'\n",
    "    \n",
    "    #store files that dont respect the format\n",
    "    disrespect = []\n",
    "    files_to_reformat = []\n",
    "    \n",
    "    for file in file_directory:\n",
    "        #generate 'IPython.utils.text.SList' using ffprobe   \n",
    "        command = f\"ffprobe -hide_banner {file}\"\n",
    "        metadata = !{command}\n",
    "\n",
    "        #list of substrings to check video specs\n",
    "        video_specs_substring = ['h264','640x360','16:9','25 fps']\n",
    "        audio_specs_substring = ['aac','stereo']\n",
    "        is_stereo = False\n",
    "\n",
    "        for line in metadata:\n",
    "            #check if mp4        \n",
    "            if 'Input #0' in line:\n",
    "                video_format = line.split('.')[1]\n",
    "                if 'mp4' not in video_format:\n",
    "                    disrespect.append(file)\n",
    "                    disrespect.append('is not in mp4 format\\n')\n",
    "                else:\n",
    "                    disrespect.append(file+'\\n')\n",
    "\n",
    "            #check video requirements        \n",
    "            if 'Stream #0:0' in line:\n",
    "                #check if the bit rate is correct range first\n",
    "                if 'kb/s' in line:\n",
    "                    #use regex to look for digits and kbs\n",
    "                    match = re.search(r'(\\d+) kb/s', line)\n",
    "                    bitrate = match[1]\n",
    "                    #convert string to int to check range\n",
    "                    bitrate = int(bitrate)\n",
    "                    if 2000 <= bitrate <= 5000:\n",
    "                        pass\n",
    "                    else:\n",
    "                        disrespect.append('Video bit rate NOT in range 2-5 mb/s\\n')\n",
    "\n",
    "                #in the list comprehension, we check if the line contains the requiremnts spec substring\n",
    "                #for each substring, if the line contains the correct spec, to returns True, else False\n",
    "                #all() checks if all values are True, if even one bool is False, it returns False\n",
    "                video_checker = [e in line for e in video_specs_substring] \n",
    "                for num,i in enumerate(video_checker):\n",
    "                    if i == False and num == 0:\n",
    "                        disrespect.append('File does not meet the video codec: h.264\\n')\n",
    "                    elif i == False and num == 1:\n",
    "                        disrespect.append('File does not meet the resolution: 640x360\\n')\n",
    "                    elif i == False and num == 2:\n",
    "                        disrespect.append('File does not meet the aspect ratio: 16:9\\n')\n",
    "                    elif i == False and num == 3:\n",
    "                        disrespect.append('File does not meet the framerate: 25 fps\\n')\n",
    "\n",
    "            #check audio requirements:\n",
    "            if 'Stream #0:1' in line:\n",
    "                if 'kb/s' in line:\n",
    "                    #use regex to look for digits and kbs\n",
    "                    match = re.search(r'(\\d+) kb/s', line)\n",
    "                    audio_bitrate = match[1]\n",
    "                    #convert string to int to check range\n",
    "                    audio_bitrate = int(audio_bitrate)\n",
    "                    if audio_bitrate > 256:\n",
    "                        disrespect.append('Audio bit rate is ABOVE 256 kbs\\n')\n",
    "                        \n",
    "                #check if audio contains string 'channel', as the avi file string is different\n",
    "                if 'channel' in line:\n",
    "                    get_line = line.split(',')\n",
    "                    for i in get_line:\n",
    "                        if 'channel' in i:\n",
    "                            get_num_channels = i.split()\n",
    "                            #if this passes, file is in stereo\n",
    "                            if get_num_channels[0] == '2':\n",
    "                                is_stereo = True\n",
    "\n",
    "                audio_checker = [k in line for k in audio_specs_substring]\n",
    "                for num,i in enumerate(audio_checker):\n",
    "                    if i == False and num == 0:\n",
    "                        disrespect.append('File does not meet the audio codec: aac\\n')\n",
    "                    elif i == False and num == 1 and is_stereo == False:\n",
    "                        print(is_stereo)\n",
    "                        disrespect.append('File does not meet the audio channel: stereo\\n')\n",
    "                        \n",
    "        #to help with line spacing and readablity of text file\n",
    "        disrespect.append('\\n')\n",
    "\n",
    "    #generate report\n",
    "    with open('report.txt', 'w') as f:\n",
    "        f.write('  '.join(disrespect))"
   ]
  },
  {
   "cell_type": "code",
   "execution_count": 3,
   "metadata": {
    "scrolled": true
   },
   "outputs": [],
   "source": [
    "generate_report(file_directories)"
   ]
  },
  {
   "cell_type": "markdown",
   "metadata": {},
   "source": [
    "## Things left to do\n",
    "- continue if statement to check which parameters needs to reformat\n",
    "- combine the reformatted audio and video together"
   ]
  },
  {
   "cell_type": "code",
   "execution_count": 4,
   "metadata": {},
   "outputs": [],
   "source": [
    "#modify the necessary files\n",
    "def reformat_files(report:str,file_directories:list):\n",
    "    '''argurments are the report generated and list of files'''\n",
    "    assert isinstance(report,str), 'arguement passed in was not directory string of report'    \n",
    "    assert isinstance(file_directories,list), 'arguement passed in was not list of string'\n",
    "\n",
    "    #read report\n",
    "    read_report = []\n",
    "    \n",
    "    #substring to check against\n",
    "    checker_substr = ['not in mp4','resolution','aspect', 'framerate','Video bit rate','video codec',\n",
    "                      'Audio bit rate','audio codec','channel']\n",
    "    \n",
    "    with open(report, 'r') as f:\n",
    "        current_file_report = []\n",
    "        for lines in f:\n",
    "            x = lines.strip()\n",
    "            if x == '':\n",
    "                read_report.append(current_file_report)\n",
    "                current_file_report = []\n",
    "            else:\n",
    "                current_file_report.append(x)\n",
    "          \n",
    "    #loop through the videos and start reformatting\n",
    "    for i,files in enumerate(file_directories):\n",
    "        video_problems_string = ''.join(read_report[i])\n",
    "        checker_bool = [e in video_problems_string for e in checker_substr]\n",
    "        #bool value with True means we have to reformat, false means no adjustments needed\n",
    "        \n",
    "        #modify audio first\n",
    "        #if True, change the audio codec, bit rate and sample rate\n",
    "        if checker_bool[6] == True or checker_bool[7] == True:\n",
    "            raw_title_no_extension = files[:-4]\n",
    "            new_title = files.split('.')\n",
    "            new_title = new_title[0] + '_formatOK'\n",
    "            \n",
    "            #extract audio\n",
    "            command = f\"ffmpeg -hide_banner -y -i {files} -vn audio/{raw_title_no_extension}.mp3\"     \n",
    "            run = !{command}\n",
    "            \n",
    "            audio_file_path = f'audio/{raw_title_no_extension}.mp3'\n",
    "            \n",
    "            #ffmpeg cannot overite exisiting files, so pay attention to file naming\n",
    "            command = f\"ffmpeg -hide_banner -y -i {audio_file_path} -ab 128000 -ar 22050 -codec:a aac audio/{raw_title_no_extension}_1.aac\"     \n",
    "            run = !{command}\n",
    "            \n",
    "        #if True, change the to mp4  \n",
    "        if checker_bool[0] == True or checker_bool[5]:\n",
    "            command = f\"ffmpeg -hide_banner -y -i {files} videos/{raw_title_no_extension}.mp4\"     \n",
    "            run = !{command}\n"
   ]
  },
  {
   "cell_type": "code",
   "execution_count": 5,
   "metadata": {
    "scrolled": false
   },
   "outputs": [],
   "source": [
    "reformat_files('report.txt',file_directories)"
   ]
  },
  {
   "cell_type": "code",
   "execution_count": 6,
   "metadata": {
    "scrolled": false
   },
   "outputs": [
    {
     "name": "stderr",
     "output_type": "stream",
     "text": [
      "[aac @ 000001f1c11571c0] Estimating duration from bitrate, this may be inaccurate\n",
      "Input #0, aac, from 'audio/The_Gun_and_the_Pulpit_1.aac':\n",
      "  Duration: 00:00:20.17, bitrate: 128 kb/s\n",
      "  Stream #0:0: Audio: aac (LC), 22050 Hz, stereo, fltp, 128 kb/s\n"
     ]
    }
   ],
   "source": [
    "!ffprobe -hide_banner audio/The_Gun_and_the_Pulpit_1.aac"
   ]
  }
 ],
 "metadata": {
  "kernelspec": {
   "display_name": "Python 3 (ipykernel)",
   "language": "python",
   "name": "python3"
  },
  "language_info": {
   "codemirror_mode": {
    "name": "ipython",
    "version": 3
   },
   "file_extension": ".py",
   "mimetype": "text/x-python",
   "name": "python",
   "nbconvert_exporter": "python",
   "pygments_lexer": "ipython3",
   "version": "3.9.12"
  }
 },
 "nbformat": 4,
 "nbformat_minor": 4
}
