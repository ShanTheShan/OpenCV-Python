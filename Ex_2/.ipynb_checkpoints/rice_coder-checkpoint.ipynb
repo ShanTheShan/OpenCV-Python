{
 "cells": [
  {
   "cell_type": "code",
   "execution_count": 1,
   "metadata": {},
   "outputs": [],
   "source": [
    "import numpy as np\n",
    "\n",
    "from scipy.io import wavfile\n",
    "import math"
   ]
  },
  {
   "cell_type": "code",
   "execution_count": 2,
   "metadata": {},
   "outputs": [],
   "source": [
    "# Encoding\n",
    "def rice_encoder(Sample, K):\n",
    "    \n",
    "    # get sign of sample\n",
    "    if Sample < 0:\n",
    "        Sample = - Sample\n",
    "        sign_sam = \"-\"\n",
    "    else:\n",
    "        sign_sam = \"+\"\n",
    "\n",
    "    # Compute M \n",
    "    M = 2**K\n",
    "\n",
    "    # For Sample, find quotient and remainder\n",
    "    q = int(Sample / M)\n",
    "    r = Sample % M\n",
    "\n",
    "    # get code word\n",
    "    code_word = \"\"\n",
    "    for i in range(q):\n",
    "        # Add 1 q number of times.\n",
    "        code_word += \"1\"\n",
    "  \n",
    "\n",
    "    # get r in binary\n",
    "    \n",
    "    b = K\n",
    "    a = \"{0:0\" + str(b) + \"b}\"\n",
    "    r_bin = a.format(r)\n",
    "\n",
    "    # Encoded string\n",
    "    encode_str = sign_sam + code_word + \"0\" + str(r_bin)\n",
    "\n",
    "    return encode_str\n"
   ]
  },
  {
   "cell_type": "code",
   "execution_count": 3,
   "metadata": {},
   "outputs": [],
   "source": [
    "# Decoding\n",
    "def rice_decoder(Sample, K):\n",
    "    #  separate\n",
    "    sign_sam = Sample[0]\n",
    "    Sample = Sample[1:]\n",
    "\n",
    "    # Compute M \n",
    "    M = 2**K\n",
    "\n",
    "    # Separate quotient and remainder \n",
    "    q_r = Sample.split('0', 1)\n",
    "\n",
    "    # Get quotient \n",
    "    quotient = len(q_r[0])\n",
    "\n",
    "    # Get remainder \n",
    "    remainder = int(q_r[1][:K], 2)\n",
    "\n",
    "    # get encoded number \n",
    "    Sample = quotient * M + remainder\n",
    "\n",
    "    # Change sign of the decoded bit\n",
    "    if sign_sam == '-':\n",
    "        Sample = -Sample\n",
    "\n",
    "    return Sample"
   ]
  },
  {
   "cell_type": "code",
   "execution_count": 4,
   "metadata": {},
   "outputs": [],
   "source": [
    "# read sound file, encode, decode, and write new wav file\n",
    "def read_and_write(filepath:str):\n",
    "    sr, audio_data = wavfile.read(filepath)\n",
    "\n",
    "\n",
    "    # Encode sound file and save as _Enc.ex2\n",
    "    index = filepath.find(\".wav\")\n",
    "    encoded_name = filepath[:index] + \"_Enc.ex2\"\n",
    "    K = 4 #bit number\n",
    "    with open(encoded_name, 'wb') as cf:\n",
    "        for i in range(len(audio_data)):\n",
    "            e = rice_encoder(audio_data[i], K) + '\\n'\n",
    "            cf.write(e.encode())\n",
    "    cf.close()\n",
    "\n",
    "    # Decode the encoded sound file\n",
    "    decoded_sound = []\n",
    "    with open(encoded_name, 'rb') as cf:\n",
    "        for i in cf:\n",
    "            decoded_sound.append(rice_decoder(i.decode('utf8').strip(), K))\n",
    "    cf.close()\n",
    "    decoded_sound = np.array(decoded_sound, dtype='int16')\n",
    "\n",
    "\n",
    "    # Write decoded audio file in .wav format\n",
    "    idx = encoded_name.find(\".ex2\")\n",
    "    decoded_name = encoded_name[:idx] + \"Dec.wav\"\n",
    "    wavfile.write(decoded_name, sr, decoded_sound)"
   ]
  },
  {
   "cell_type": "code",
   "execution_count": 5,
   "metadata": {},
   "outputs": [],
   "source": [
    "read_and_write('sounds/Sound1.wav')\n",
    "read_and_write('sounds/Sound2.wav')"
   ]
  },
  {
   "cell_type": "markdown",
   "metadata": {},
   "source": [
    "Check that the original audio file and the reconstructed file are the same."
   ]
  },
  {
   "cell_type": "code",
   "execution_count": 18,
   "metadata": {
    "scrolled": true
   },
   "outputs": [
    {
     "name": "stdout",
     "output_type": "stream",
     "text": [
      "Sound1.wav: _wave_params(nchannels=1, sampwidth=2, framerate=44100, nframes=501022, comptype='NONE', compname='not compressed')\n",
      "Sound1.wav size, in bytes: 1002088\n",
      "\n",
      "\n",
      "Sound1_EncDec.wav: _wave_params(nchannels=1, sampwidth=2, framerate=44100, nframes=501022, comptype='NONE', compname='not compressed')\n",
      "Sound1_EncDec.wav size, in bytes: 1002088\n",
      "\n",
      "\n",
      "Sound2.wav: _wave_params(nchannels=1, sampwidth=2, framerate=44100, nframes=504000, comptype='NONE', compname='not compressed')\n",
      "Sound2.wav size, in bytes: 1008044\n",
      "\n",
      "\n",
      "Sound2_EncDec.wav: _wave_params(nchannels=1, sampwidth=2, framerate=44100, nframes=504000, comptype='NONE', compname='not compressed')\n",
      "Sound2_EncDec.wav size, in bytes: 1008044\n"
     ]
    }
   ],
   "source": [
    "import wave\n",
    "import os\n",
    "\n",
    "audio1 = wave.open('sounds/Sound1.wav','rb')\n",
    "audio1_specs = audio1.getparams()\n",
    "print('Sound1.wav:',audio1_specs)\n",
    "print('Sound1.wav size, in bytes:',os.stat('sounds/Sound1.wav').st_size)\n",
    "\n",
    "print('\\n')\n",
    "\n",
    "audio1_recon = wave.open('sounds/Sound1_EncDec.wav','rb')\n",
    "audio1_specs_recon = audio1_recon.getparams()\n",
    "print('Sound1_EncDec.wav:',audio1_specs_recon)\n",
    "print('Sound1_EncDec.wav size, in bytes:',os.stat('sounds/Sound1_EncDec.wav').st_size)\n",
    "\n",
    "print('\\n')\n",
    "\n",
    "audio2 = wave.open('sounds/Sound2.wav','rb')\n",
    "audio2_specs = audio2.getparams()\n",
    "print('Sound2.wav:',audio2_specs)\n",
    "print('Sound2.wav size, in bytes:',os.stat('sounds/Sound2.wav').st_size)\n",
    "\n",
    "print('\\n')\n",
    "\n",
    "audio2_recon = wave.open('sounds/Sound2_EncDec.wav','rb')\n",
    "audio2_specs_recon = audio2_recon.getparams()\n",
    "print('Sound2_EncDec.wav:',audio2_specs_recon)\n",
    "print('Sound2_EncDec.wav size, in bytes:',os.stat('sounds/Sound2_EncDec.wav').st_size)"
   ]
  },
  {
   "cell_type": "markdown",
   "metadata": {},
   "source": [
    "Files are identical. Successfully encoded and decoded using lossless compression."
   ]
  },
  {
   "cell_type": "markdown",
   "metadata": {},
   "source": [
    "|               | Original size | Rice(K = 4 bits) | Rice(k = 2 bits) | %compression(K = 4 bits) | %Compression(k = 2 bits) |\n",
    "|:-------------:|:-------------:|:----------------:|:----------------:|:------------------------:|:------------------------:|\n",
    "|  Sound1.wav   |     1MB       |       25MB       |       89.6MB     |        -2400 %           |            -8860 %       |\n",
    "|  Sound2.wav   |     1MB       |       150MB      |       591MB      |        -14900            |            -59000 %      |\n"
   ]
  }
 ],
 "metadata": {
  "kernelspec": {
   "display_name": "Python 3 (ipykernel)",
   "language": "python",
   "name": "python3"
  },
  "language_info": {
   "codemirror_mode": {
    "name": "ipython",
    "version": 3
   },
   "file_extension": ".py",
   "mimetype": "text/x-python",
   "name": "python",
   "nbconvert_exporter": "python",
   "pygments_lexer": "ipython3",
   "version": "3.9.12"
  }
 },
 "nbformat": 4,
 "nbformat_minor": 2
}
