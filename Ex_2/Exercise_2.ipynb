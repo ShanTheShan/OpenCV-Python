{
 "cells": [
  {
   "cell_type": "markdown",
   "metadata": {},
   "source": [
    "Import the neccessary libraries to accomplish this task."
   ]
  },
  {
   "cell_type": "code",
   "execution_count": 1,
   "metadata": {},
   "outputs": [],
   "source": [
    "import numpy as np\n",
    "from scipy.io import wavfile\n",
    "import math\n",
    "import wave\n",
    "import os"
   ]
  },
  {
   "cell_type": "markdown",
   "metadata": {},
   "source": [
    "# What is rice coding?\n",
    "\n",
    "Rice coding is a lossless data compression technique that divides the data into two parts: a quotient, obtained by dividing the original value by 2^K, where K is an input parameter, and a remainder. The quotient is encoded using unary coding, where the number of ones corresponds to the quotient value, followed by a zero. The remainder is then encoded using binary coding with a fixed number of bits K. "
   ]
  },
  {
   "cell_type": "markdown",
   "metadata": {},
   "source": [
    "### Rice's algorithm\n",
    "\n",
    "Taken from Coursera Lab 9.005 Exercise 17. Implementing a rice encoder and decoder using Python \n",
    "\n",
    "**Encoding**\n",
    "1. Fix an integer value K.\n",
    "2. Compute the modulus, M by using the equation $ M = 2^K $\n",
    "3. For S, the number to be encoded, find\n",
    "    1. quotient = $ q = int(S/M) $\n",
    "    2. remainder = $ r = S  modulo  M $\n",
    "4. Generate Codeword\n",
    "    1. The Quotient_Code is q in unary format.\n",
    "    2. The Remainder_Code is r in binary using K bits.\n",
    "    3. The Codeword will have the format <Quotient_Code\\> <Remainder_Code\\>\n",
    "\n",
    "**Decoding**\n",
    "1. Determine q by counting the number of 1s before the first 0.\n",
    "2. Determine r reading the next K bits as a binary value.\n",
    "3. Write out S, the encoded number, as q × M + r."
   ]
  },
  {
   "cell_type": "markdown",
   "metadata": {},
   "source": [
    "We first build the encoding and decoding functions."
   ]
  },
  {
   "cell_type": "code",
   "execution_count": 2,
   "metadata": {},
   "outputs": [],
   "source": [
    "def rice_encoder(samples, K):\n",
    "    # get sign of samples\n",
    "    if samples < 0:\n",
    "        samples = - samples\n",
    "        sign_sam = \"-\"\n",
    "    else:\n",
    "        sign_sam = \"+\"\n",
    "\n",
    "    M = 2**K\n",
    "\n",
    "    #find quotient and remainder\n",
    "    q = int(samples / M)\n",
    "    r = samples % M\n",
    "\n",
    "    #get code word\n",
    "    code_word = \"\"\n",
    "    for i in range(q):\n",
    "        code_word += \"1\"\n",
    "\n",
    "    #get r in binary\n",
    "    b = K\n",
    "    a = \"{0:0\" + str(b) + \"b}\"\n",
    "    r_bin = a.format(r)\n",
    "    \n",
    "    encode_str = sign_sam + code_word + \"0\" + str(r_bin)\n",
    "\n",
    "    return encode_str"
   ]
  },
  {
   "cell_type": "code",
   "execution_count": 3,
   "metadata": {},
   "outputs": [],
   "source": [
    "def rice_decoder(samples, K):\n",
    "    #  separate\n",
    "    sign_sam = samples[0]\n",
    "    samples = samples[1:]\n",
    "\n",
    "    M = 2**K\n",
    "\n",
    "    #separate quotient and remainder \n",
    "    q_r = samples.split('0', 1)\n",
    "    quotient = len(q_r[0]) \n",
    "    remainder = int(q_r[1][:K], 2)\n",
    "\n",
    "    #get encoded number \n",
    "    samples = quotient * M + remainder\n",
    "\n",
    "    #change sign of the decoded bit\n",
    "    if sign_sam == '-':\n",
    "        samples = -samples\n",
    "\n",
    "    return samples"
   ]
  },
  {
   "cell_type": "markdown",
   "metadata": {},
   "source": [
    "Now to build a function that reads the given uncompressed WAV file, encodes it into a new file with the extension `.ex2` and decode that file, back into a new uncompressed WAV file, with the extension `_EncDec.wav`."
   ]
  },
  {
   "cell_type": "code",
   "execution_count": 4,
   "metadata": {},
   "outputs": [],
   "source": [
    "#read sound file, encode, decode, and write new wav file\n",
    "def encode_and_decode(filepath:str,k:int):\n",
    "    sr, audio_data = wavfile.read(filepath)\n",
    "\n",
    "    #encode sound file and save as _Enc.ex2\n",
    "    index = filepath.find(\".wav\")\n",
    "    encoded_name = filepath[:index] + \"_Enc.ex2\"\n",
    "    #bit number\n",
    "    K = k \n",
    "    with open(encoded_name, 'wb') as cf:\n",
    "        for i in range(len(audio_data)):\n",
    "            e = rice_encoder(audio_data[i], K) + '\\n'\n",
    "            cf.write(e.encode())\n",
    "    cf.close()\n",
    "\n",
    "    #decode the encoded sound file\n",
    "    decoded_sound = []\n",
    "    with open(encoded_name, 'rb') as cf:\n",
    "        for i in cf:\n",
    "            decoded_sound.append(rice_decoder(i.decode('utf8').strip(), K))\n",
    "    cf.close()\n",
    "    decoded_sound = np.array(decoded_sound, dtype='int16')\n",
    "\n",
    "    #write decoded audio file in .wav format\n",
    "    idx = encoded_name.find(\".ex2\")\n",
    "    decoded_name = encoded_name[:idx] + \"Dec.wav\"\n",
    "    wavfile.write(decoded_name, sr, decoded_sound)"
   ]
  },
  {
   "cell_type": "markdown",
   "metadata": {},
   "source": [
    "When K = 2 bits"
   ]
  },
  {
   "cell_type": "code",
   "execution_count": 12,
   "metadata": {},
   "outputs": [
    {
     "name": "stderr",
     "output_type": "stream",
     "text": [
      "C:\\Users\\shana\\AppData\\Local\\Temp\\ipykernel_16464\\3552930024.py:4: RuntimeWarning: overflow encountered in scalar negative\n",
      "  Sample = - Sample\n"
     ]
    }
   ],
   "source": [
    "encode_and_decode('sounds/Sound1.wav',2)\n",
    "encode_and_decode('sounds/Sound2.wav',2)"
   ]
  },
  {
   "cell_type": "markdown",
   "metadata": {},
   "source": [
    "Display the size of the encoded file."
   ]
  },
  {
   "cell_type": "code",
   "execution_count": 13,
   "metadata": {},
   "outputs": [
    {
     "name": "stdout",
     "output_type": "stream",
     "text": [
      "89 MB\n",
      "591 MB\n"
     ]
    }
   ],
   "source": [
    "print(os.path.getsize('sounds/Sound1_Enc.ex2')>> 20,'MB')\n",
    "print(os.path.getsize('sounds/Sound2_Enc.ex2')>> 20,'MB')"
   ]
  },
  {
   "cell_type": "markdown",
   "metadata": {},
   "source": [
    "When K = 4 bits"
   ]
  },
  {
   "cell_type": "code",
   "execution_count": 14,
   "metadata": {},
   "outputs": [
    {
     "name": "stderr",
     "output_type": "stream",
     "text": [
      "C:\\Users\\shana\\AppData\\Local\\Temp\\ipykernel_16464\\3552930024.py:4: RuntimeWarning: overflow encountered in scalar negative\n",
      "  Sample = - Sample\n"
     ]
    }
   ],
   "source": [
    "encode_and_decode('sounds/Sound1.wav',4)\n",
    "encode_and_decode('sounds/Sound2.wav',4)"
   ]
  },
  {
   "cell_type": "code",
   "execution_count": 15,
   "metadata": {},
   "outputs": [
    {
     "name": "stdout",
     "output_type": "stream",
     "text": [
      "25 MB\n",
      "150 MB\n"
     ]
    }
   ],
   "source": [
    "print(os.path.getsize('sounds/Sound1_Enc.ex2')>> 20,'MB')\n",
    "print(os.path.getsize('sounds/Sound2_Enc.ex2')>> 20,'MB')"
   ]
  },
  {
   "cell_type": "markdown",
   "metadata": {},
   "source": [
    "Check that the original audio file and the reconstructed file are the same."
   ]
  },
  {
   "cell_type": "code",
   "execution_count": 16,
   "metadata": {
    "scrolled": true
   },
   "outputs": [
    {
     "name": "stdout",
     "output_type": "stream",
     "text": [
      "Sound1.wav: _wave_params(nchannels=1, sampwidth=2, framerate=44100, nframes=501022, comptype='NONE', compname='not compressed')\n",
      "Sound1.wav size, in bytes: 1002088\n",
      "\n",
      "\n",
      "Sound1_EncDec.wav: _wave_params(nchannels=1, sampwidth=2, framerate=44100, nframes=501022, comptype='NONE', compname='not compressed')\n",
      "Sound1_EncDec.wav size, in bytes: 1002088\n",
      "\n",
      "\n",
      "Sound2.wav: _wave_params(nchannels=1, sampwidth=2, framerate=44100, nframes=504000, comptype='NONE', compname='not compressed')\n",
      "Sound2.wav size, in bytes: 1008044\n",
      "\n",
      "\n",
      "Sound2_EncDec.wav: _wave_params(nchannels=1, sampwidth=2, framerate=44100, nframes=504000, comptype='NONE', compname='not compressed')\n",
      "Sound2_EncDec.wav size, in bytes: 1008044\n"
     ]
    }
   ],
   "source": [
    "audio1 = wave.open('sounds/Sound1.wav','rb')\n",
    "audio1_specs = audio1.getparams()\n",
    "print('Sound1.wav:',audio1_specs)\n",
    "print('Sound1.wav size, in bytes:',os.stat('sounds/Sound1.wav').st_size)\n",
    "\n",
    "print('\\n')\n",
    "\n",
    "audio1_recon = wave.open('sounds/Sound1_EncDec.wav','rb')\n",
    "audio1_specs_recon = audio1_recon.getparams()\n",
    "print('Sound1_EncDec.wav:',audio1_specs_recon)\n",
    "print('Sound1_EncDec.wav size, in bytes:',os.stat('sounds/Sound1_EncDec.wav').st_size)\n",
    "\n",
    "print('\\n')\n",
    "\n",
    "audio2 = wave.open('sounds/Sound2.wav','rb')\n",
    "audio2_specs = audio2.getparams()\n",
    "print('Sound2.wav:',audio2_specs)\n",
    "print('Sound2.wav size, in bytes:',os.stat('sounds/Sound2.wav').st_size)\n",
    "\n",
    "print('\\n')\n",
    "\n",
    "audio2_recon = wave.open('sounds/Sound2_EncDec.wav','rb')\n",
    "audio2_specs_recon = audio2_recon.getparams()\n",
    "print('Sound2_EncDec.wav:',audio2_specs_recon)\n",
    "print('Sound2_EncDec.wav size, in bytes:',os.stat('sounds/Sound2_EncDec.wav').st_size)"
   ]
  },
  {
   "cell_type": "markdown",
   "metadata": {},
   "source": [
    "Files are identical. Successfully encoded and decoded using lossless compression."
   ]
  }
 ],
 "metadata": {
  "kernelspec": {
   "display_name": "Python 3 (ipykernel)",
   "language": "python",
   "name": "python3"
  },
  "language_info": {
   "codemirror_mode": {
    "name": "ipython",
    "version": 3
   },
   "file_extension": ".py",
   "mimetype": "text/x-python",
   "name": "python",
   "nbconvert_exporter": "python",
   "pygments_lexer": "ipython3",
   "version": "3.11.5"
  }
 },
 "nbformat": 4,
 "nbformat_minor": 2
}
