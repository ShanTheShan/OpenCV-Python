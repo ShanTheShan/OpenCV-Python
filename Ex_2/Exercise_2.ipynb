{
 "cells": [
  {
   "cell_type": "markdown",
   "id": "df6b404c",
   "metadata": {},
   "source": [
    "## Reading audio file, gettings its bytes, then convert the bytes to bits, then create a wav file from those bytes"
   ]
  },
  {
   "cell_type": "code",
   "execution_count": 1,
   "id": "d489600b",
   "metadata": {},
   "outputs": [],
   "source": [
    "import sys\n",
    "import wave\n",
    "import numpy as np"
   ]
  },
  {
   "cell_type": "code",
   "execution_count": 2,
   "id": "d3bc21d4",
   "metadata": {},
   "outputs": [],
   "source": [
    "def read_wav_bits(wav_file):\n",
    "    with wave.open(wav_file, 'rb') as wav:\n",
    "        file_parameters = wav.getparams()\n",
    "        frames = wav.readframes(file_parameters.nframes)\n",
    "        return file_parameters, frames"
   ]
  },
  {
   "cell_type": "code",
   "execution_count": 3,
   "id": "e2d73bf6",
   "metadata": {},
   "outputs": [],
   "source": [
    "file_settings,frames = read_wav_bits('Sound1.wav')\n",
    "test_bits = frames[:10]"
   ]
  },
  {
   "cell_type": "code",
   "execution_count": 4,
   "id": "bbc7588b",
   "metadata": {},
   "outputs": [
    {
     "name": "stdout",
     "output_type": "stream",
     "text": [
      "0b11111111111110001111111111111001111111111111100111111111111110011111111111111001\n"
     ]
    }
   ],
   "source": [
    "#convert bytes to bits\n",
    "bits = bin(int.from_bytes(test_bits, byteorder=sys.byteorder))\n",
    "print(bits)"
   ]
  },
  {
   "cell_type": "code",
   "execution_count": 5,
   "id": "1ff858b6",
   "metadata": {},
   "outputs": [],
   "source": [
    "def write_wav_file(output_file, params, frames):\n",
    "    with wave.open(output_file, 'wb') as f:\n",
    "        f.setparams(params)\n",
    "        f.writeframes(frames)"
   ]
  },
  {
   "cell_type": "code",
   "execution_count": 6,
   "id": "c9285cee",
   "metadata": {},
   "outputs": [],
   "source": [
    "Sound1 = 'Sound1.wav'\n",
    "Sound2 = 'Sound2.wav'\n",
    "output_wav_file = 'myfile.wav'\n",
    "\n",
    "#read the file and get its file settings and frames\n",
    "params, raw_frames = read_wav_bits(Sound1)\n",
    "#create new wav file with the original file settings, and new frames\n",
    "write_wav_file(output_wav_file, params, raw_frames)"
   ]
  },
  {
   "cell_type": "markdown",
   "id": "69bc9b32",
   "metadata": {},
   "source": [
    "## convert binary to int to perform bitwise operations, then convert back to binary"
   ]
  },
  {
   "cell_type": "code",
   "execution_count": 96,
   "id": "d83af2ea",
   "metadata": {
    "scrolled": true
   },
   "outputs": [
    {
     "name": "stdout",
     "output_type": "stream",
     "text": [
      "R2 is: 10\n",
      "R2 type is <class 'int'>\n",
      "\n",
      "\n",
      "R1 is: 2\n",
      "R1 type is: <class 'int'>\n",
      "R1 binary is: 0010\n"
     ]
    }
   ],
   "source": [
    "#testing my rice encoder function\n",
    "def rice_encoder(S:str,K:int):\n",
    "    assert isinstance(S, str), 'bits passed is not in string!'\n",
    "    \n",
    "    M = 2**K\n",
    "    #convert M which is decimal, to binary\n",
    "    M = format(M-1,'b')\n",
    "    \n",
    "    #bitwise operations peformed in integer val not binary, so convert\n",
    "    #R1 must also be in k bits\n",
    "    R1 = int(S, 2) & int(M, 2)\n",
    "    \n",
    "    bitshift = int(S, 2) >> K\n",
    "    \n",
    "    #unary encode R2\n",
    "    list_of_ones = []\n",
    "\n",
    "    for i in range(bitshift):\n",
    "        list_of_ones.append(1)\n",
    "\n",
    "    list_of_ones.append(0)\n",
    "\n",
    "    #string all the elements together in a list, then convert to int\n",
    "    unary_list_Strings = [str(i) for i in list_of_ones]\n",
    "\n",
    "    #R2 here is in str\n",
    "    R2 = \"\".join(unary_list_Strings)\n",
    "    R2 = int(R2)\n",
    "    \n",
    "    #concatenate R2R1 into an binary  \n",
    "    binary_code_format = '0' + str(K) + 'b'\n",
    "    R1_binary = str(format(R1, binary_code_format))\n",
    "    \n",
    "    #R2R1 here is a string\n",
    "    R2R1 = str(R2) + str(R1_binary)\n",
    "    \n",
    "    print('R2 is:',R2)\n",
    "    print('R2 type is',type(R2))\n",
    "    \n",
    "    print('\\n')\n",
    "    \n",
    "    print('R1 is:',R1)\n",
    "    print('R1 type is:', type(R1))\n",
    "    print('R1 binary is:', format(R1, '04b'))\n",
    "\n",
    "    return R2R1\n",
    "\n",
    "R1R2 = rice_encoder(\"10010\",4)"
   ]
  },
  {
   "cell_type": "code",
   "execution_count": 97,
   "id": "2574c710",
   "metadata": {
    "scrolled": true
   },
   "outputs": [
    {
     "name": "stdout",
     "output_type": "stream",
     "text": [
      "100010\n"
     ]
    }
   ],
   "source": [
    "print(R1R2)"
   ]
  }
 ],
 "metadata": {
  "kernelspec": {
   "display_name": "Python 3 (ipykernel)",
   "language": "python",
   "name": "python3"
  },
  "language_info": {
   "codemirror_mode": {
    "name": "ipython",
    "version": 3
   },
   "file_extension": ".py",
   "mimetype": "text/x-python",
   "name": "python",
   "nbconvert_exporter": "python",
   "pygments_lexer": "ipython3",
   "version": "3.9.12"
  }
 },
 "nbformat": 4,
 "nbformat_minor": 5
}
