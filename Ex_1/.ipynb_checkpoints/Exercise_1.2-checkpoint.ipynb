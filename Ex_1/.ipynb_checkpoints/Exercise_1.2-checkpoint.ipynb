{
 "cells": [
  {
   "cell_type": "code",
   "execution_count": 1,
   "id": "79f77be7",
   "metadata": {},
   "outputs": [],
   "source": [
    "import cv2\n",
    "import time"
   ]
  },
  {
   "cell_type": "code",
   "execution_count": 2,
   "id": "a5192422",
   "metadata": {},
   "outputs": [],
   "source": [
    "video=cv2.VideoCapture('Traffic_Laramie_1.mp4')\n",
    "video2= cv2.VideoCapture('Traffic_Laramie_2.mp4')"
   ]
  },
  {
   "cell_type": "code",
   "execution_count": 3,
   "id": "aa17b054",
   "metadata": {},
   "outputs": [],
   "source": [
    "# Check if the video opened successfully\n",
    "if (video.isOpened()== False): \n",
    "    print(\"Error opening video file\")\n",
    "    \n",
    "#detect objects that are being captured\n",
    "detect_objs = cv2.createBackgroundSubtractorMOG2(varThreshold=20,detectShadows=False)\n",
    "\n",
    "#list to store the number of detected cars\n",
    "detected_cars = []\n",
    "car_counter = 0\n",
    "save_prev_frame=0\n"
   ]
  },
  {
   "cell_type": "code",
   "execution_count": 4,
   "id": "ad9bef40",
   "metadata": {},
   "outputs": [
    {
     "name": "stdout",
     "output_type": "stream",
     "text": [
      "Total frames: 4448.0\n",
      "Fps: 25.0\n",
      "Video Width: 1040\n",
      "Video Height: 600\n"
     ]
    }
   ],
   "source": [
    "frames_count, fps, width, height = video.get(cv2.CAP_PROP_FRAME_COUNT), video.get(cv2.CAP_PROP_FPS), video.get(cv2.CAP_PROP_FRAME_WIDTH), video.get(cv2.CAP_PROP_FRAME_HEIGHT)\n",
    "\n",
    "width = int(width)\n",
    "height = int(height)\n",
    "print(f'Total frames: {frames_count}')\n",
    "print(f'Fps: {fps}')\n",
    "print(f'Video Width: {width}')\n",
    "print(f'Video Height: {height}')"
   ]
  },
  {
   "cell_type": "markdown",
   "id": "89b36777",
   "metadata": {},
   "source": [
    "The centroid is the centre of an object or figure. We compute the centre of each car rectangle, to determine if it has crossed a certain position in the frame, if it has, we count it as a car has been passed. Formula to calculate the centroid of a rectangle[1]."
   ]
  },
  {
   "cell_type": "code",
   "execution_count": 5,
   "id": "3415b2bc",
   "metadata": {},
   "outputs": [],
   "source": [
    "def get_centroid(x, y, w, h):\n",
    "    cx = x + int(w/2)\n",
    "    cy = y + int(h/2)\n",
    "    return cx,cy"
   ]
  },
  {
   "cell_type": "code",
   "execution_count": 6,
   "id": "9cd22b91",
   "metadata": {
    "scrolled": false
   },
   "outputs": [],
   "source": [
    "#read until video is completed or we press 'Q'\n",
    "def analyze_video(video):\n",
    "        # Check if the video opened successfully\n",
    "    if (video.isOpened()== False): \n",
    "        print(\"Error opening video file\")\n",
    "\n",
    "    #detect objects that are being captured\n",
    "    detect_objs = cv2.createBackgroundSubtractorMOG2(varThreshold=20,detectShadows=False)\n",
    "\n",
    "    #list to store the number of detected cars\n",
    "    detected_cars = []\n",
    "    car_counter = 0\n",
    "    save_prev_frame=0\n",
    "    \n",
    "    while True:    \n",
    "        #capture frame-by-frame\n",
    "        check, frame = video.read()\n",
    "        current_frame = video.get(cv2.CAP_PROP_POS_FRAMES)\n",
    "        #if we reach the end of the video, check will be false\n",
    "        if not check:\n",
    "                break\n",
    "\n",
    "        #define 'main street''s dimension\n",
    "        main_street = frame[300:430,1:1040]\n",
    "\n",
    "        #apply gray and blur to region of interest, main_street\n",
    "        gray = cv2.cvtColor(main_street,cv2.COLOR_BGR2GRAY)\n",
    "        blur = cv2.GaussianBlur(gray, (5,5), 0 )\n",
    "\n",
    "        foreground_mask  = detect_objs.apply(blur)\n",
    "\n",
    "\n",
    "        #to apply to the morphology\n",
    "        kernel = cv2.getStructuringElement(cv2.MORPH_ELLIPSE, (5, 5))  \n",
    "        closing = cv2.morphologyEx(foreground_mask, cv2.MORPH_CLOSE, kernel)\n",
    "        opening = cv2.morphologyEx(closing, cv2.MORPH_OPEN, kernel)\n",
    "        dilation = cv2.dilate(opening,kernel,iterations=2)\n",
    "\n",
    "\n",
    "\n",
    "        #get contours from the foreground_mask\n",
    "        contours,hier = cv2.findContours(foreground_mask,cv2.RETR_TREE,cv2.CHAIN_APPROX_SIMPLE)\n",
    "\n",
    "        #rgb colors values\n",
    "        green = (0,255,0)\n",
    "        red = (0,0,255)\n",
    "\n",
    "        #checkpoint 1\n",
    "        cv2.line(main_street,(205,40),(205,145),green,2)\n",
    "\n",
    "\n",
    "        for x in contours:\n",
    "            contour_area = cv2.contourArea(x)\n",
    "            if(contour_area>3000):\n",
    "                #draw box for detected contours\n",
    "                x,y,width,height = cv2.boundingRect(x)\n",
    "                cv2.rectangle(main_street,(x,y),(x+width,y+height),green,2)\n",
    "\n",
    "                #draw circle to track centroid of car\n",
    "                car_centroid = get_centroid(x,y,width,height)\n",
    "                get_cx,get_cy = get_centroid(x,y,width,height)\n",
    "\n",
    "                cv2.circle(main_street,car_centroid,5,red,-1)\n",
    "\n",
    "\n",
    "                 #testing for video 1 & 2, slow cars\n",
    "                if(195 <= get_cx <= 205) and (80<= get_cy <=100):\n",
    "                    #add coordinates to detected list\n",
    "                    detected_cars.append(car_centroid)\n",
    "                    for (cx,cy) in detected_cars:\n",
    "                        if cx <(205+5) and cx > (205-4):\n",
    "                            car_counter = car_counter + 1\n",
    "                            detected_cars.remove((cx,cy))\n",
    "\n",
    "        if current_frame == 1500:\n",
    "            save_prev_frame = current_frame\n",
    "            print('initial 1 min')\n",
    "            print(car_counter)\n",
    "        if current_frame == (save_prev_frame * 2):\n",
    "            print('1 min has passed')\n",
    "            print(car_counter)\n",
    "            save_prev_frame = current_frame\n",
    "\n",
    "\n",
    "        if check == True:\n",
    "            cv2.imshow(\"Main_street_1.2\",frame)\n",
    "            #cv2.imshow(\"Frame Differencing\",dilation)\n",
    "\n",
    "            if cv2.waitKey(1) & 0xFF == ord(\"q\"):\n",
    "                break\n",
    "\n",
    "    #after the loop release the video object\n",
    "    video.release()\n",
    "    #destroy all the windows\n",
    "    cv2.destroyAllWindows()\n",
    "    print(f'Total number of cars: {car_counter}')    "
   ]
  },
  {
   "cell_type": "code",
   "execution_count": 7,
   "id": "37c655b9",
   "metadata": {},
   "outputs": [
    {
     "name": "stdout",
     "output_type": "stream",
     "text": [
      "initial 1 min\n",
      "1\n",
      "1 min has passed\n",
      "3\n",
      "Total number of cars: 5\n",
      "initial 1 min\n",
      "2\n",
      "Total number of cars: 4\n"
     ]
    }
   ],
   "source": [
    "analyze_video(video)\n",
    "analyze_video(video2)"
   ]
  },
  {
   "cell_type": "markdown",
   "id": "1424f133",
   "metadata": {},
   "source": [
    "Cannot detect second car in laramie 1.\n",
    "\n",
    "\n",
    "The range and off set value conditional sometimes is too tight, to detect the second car, but if the offset value and/or range detect increases, it double counts. Consider using euclidean distance to measure the car to the checkpoint."
   ]
  },
  {
   "cell_type": "markdown",
   "id": "e6a4671a",
   "metadata": {},
   "source": [
    "# References\n",
    "\n",
    "[1] www.engineeringtoolbox.com. (n.d.). Centroids of Plane Areas. [online] Available at: https://www.engineeringtoolbox.com/centroids-areas-d_2174.html."
   ]
  }
 ],
 "metadata": {
  "kernelspec": {
   "display_name": "Python 3 (ipykernel)",
   "language": "python",
   "name": "python3"
  },
  "language_info": {
   "codemirror_mode": {
    "name": "ipython",
    "version": 3
   },
   "file_extension": ".py",
   "mimetype": "text/x-python",
   "name": "python",
   "nbconvert_exporter": "python",
   "pygments_lexer": "ipython3",
   "version": "3.9.12"
  }
 },
 "nbformat": 4,
 "nbformat_minor": 5
}
