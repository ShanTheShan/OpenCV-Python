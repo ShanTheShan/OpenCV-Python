{
 "cells": [
  {
   "cell_type": "code",
   "execution_count": 1,
   "id": "79f77be7",
   "metadata": {},
   "outputs": [],
   "source": [
    "import cv2\n",
    "import time"
   ]
  },
  {
   "cell_type": "code",
   "execution_count": 2,
   "id": "aa17b054",
   "metadata": {},
   "outputs": [],
   "source": [
    "video=cv2.VideoCapture('Traffic_Laramie_1.mp4')\n",
    "\n",
    "# Check if the video opened successfully\n",
    "if (video.isOpened()== False): \n",
    "    print(\"Error opening video file\")\n",
    "    \n",
    "#detect objects that are being captured\n",
    "detect_objs = cv2.createBackgroundSubtractorMOG2(varThreshold=100,detectShadows=False)\n",
    "\n",
    "#list to store the number of detected cars\n",
    "detected_cars = []\n",
    "car_counter = 0"
   ]
  },
  {
   "cell_type": "code",
   "execution_count": 3,
   "id": "52133c24",
   "metadata": {
    "scrolled": false
   },
   "outputs": [],
   "source": [
    "#read until video is completed or we press 'Q'\n",
    "while True:    \n",
    "    #capture frame-by-frame\n",
    "    check, frame = video.read()\n",
    "    #if we reach the end of the video, check will be false\n",
    "    if not check:\n",
    "            break\n",
    "    #define 'main street''s dimension\n",
    "    main_street = frame[300:400,100:600]\n",
    "    \n",
    "    #capture objects in each frame of main street\n",
    "    foreground_mask  = detect_objs.apply(main_street)\n",
    "    \n",
    "    #get contours from the foreground_mask\n",
    "    contours,hier = cv2.findContours(foreground_mask,cv2.RETR_TREE,cv2.CHAIN_APPROX_SIMPLE)\n",
    "    \n",
    "    #draw each detect contours green\n",
    "    green = (0,255,0)\n",
    "    \n",
    "    cv2.rectangle(main_street,(12,60),(20,75),green,2)\n",
    "    \n",
    "    current_car_positions = [] \n",
    "    for x in contours:\n",
    "        contour_area = cv2.contourArea(x)\n",
    "        if(contour_area>2500):\n",
    "            #draw box for detected contours\n",
    "            x,y,width,height = cv2.boundingRect(x)\n",
    "            cv2.rectangle(main_street,(x,y),(x+width,y+height),green,2)\n",
    "            detected_cars.append([x,y])\n",
    "             \n",
    "    if check == True:\n",
    "        cv2.imshow(\"Main_street_1.1\",frame)\n",
    "        #cv2.imshow(\"Frame Differencing\",foreground_mask)\n",
    "    \n",
    "        if cv2.waitKey(1) & 0xFF == ord(\"q\"):\n",
    "            break\n",
    "            \n",
    "#after the loop release the video object\n",
    "video.release()\n",
    "#destroy all the windows\n",
    "cv2.destroyAllWindows()"
   ]
  },
  {
   "cell_type": "code",
   "execution_count": 4,
   "id": "86c938f2",
   "metadata": {},
   "outputs": [
    {
     "name": "stdout",
     "output_type": "stream",
     "text": [
      "0\n"
     ]
    }
   ],
   "source": [
    "print(car_counter)"
   ]
  }
 ],
 "metadata": {
  "kernelspec": {
   "display_name": "Python 3 (ipykernel)",
   "language": "python",
   "name": "python3"
  },
  "language_info": {
   "codemirror_mode": {
    "name": "ipython",
    "version": 3
   },
   "file_extension": ".py",
   "mimetype": "text/x-python",
   "name": "python",
   "nbconvert_exporter": "python",
   "pygments_lexer": "ipython3",
   "version": "3.9.12"
  }
 },
 "nbformat": 4,
 "nbformat_minor": 5
}
